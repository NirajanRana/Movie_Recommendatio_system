{
 "cells": [
  {
   "cell_type": "code",
   "execution_count": 1,
   "id": "5bdc7c9e-3d3c-4f8a-9618-576ef20959d5",
   "metadata": {},
   "outputs": [],
   "source": [
    "import requests\n",
    "import pandas as pd\n",
    "import time\n",
    "import pickle\n",
    "\n"
   ]
  },
  {
   "cell_type": "code",
   "execution_count": 3,
   "id": "742fa0ef-05cc-4e36-a089-acb245be1154",
   "metadata": {},
   "outputs": [],
   "source": [
    "new_df=pd.read_csv('tmdb_5000_movies.csv')"
   ]
  },
  {
   "cell_type": "code",
   "execution_count": 5,
   "id": "9b1629f6-8c75-4b01-b5f3-bee05157459c",
   "metadata": {},
   "outputs": [
    {
     "data": {
      "text/plain": [
       "0     19995\n",
       "1       285\n",
       "2    206647\n",
       "3     49026\n",
       "4     49529\n",
       "Name: id, dtype: int64"
      ]
     },
     "execution_count": 5,
     "metadata": {},
     "output_type": "execute_result"
    }
   ],
   "source": [
    "new_df['id'].head()"
   ]
  },
  {
   "cell_type": "code",
   "execution_count": 9,
   "id": "da65f8e8-f209-433a-8899-57213df9b959",
   "metadata": {},
   "outputs": [
    {
     "name": "stdout",
     "output_type": "stream",
     "text": [
      "Failed to fetch reviews for Movie ID 112430: 404\n",
      "Failed to fetch reviews for Movie ID 333355: 404\n",
      "Failed to fetch reviews for Movie ID 153397: 404\n",
      "Failed to fetch reviews for Movie ID 36597: 404\n",
      "Failed to fetch reviews for Movie ID 183894: 404\n",
      "Failed to fetch reviews for Movie ID 395766: 404\n",
      "Failed to fetch reviews for Movie ID 50942: 404\n"
     ]
    }
   ],
   "source": [
    "api_key = \"862bae8cf828e3fa4ea288a97db04982\"\n",
    "\n",
    "# --- Function to fetch reviews for a single movie ---\n",
    "def fetch_reviews(movie_id):\n",
    "    url = f\"https://api.themoviedb.org/3/movie/{movie_id}/reviews?api_key={api_key}&language=en-US&page=1\"\n",
    "    try:\n",
    "        response = requests.get(url)\n",
    "        if response.status_code == 200:\n",
    "            data = response.json()\n",
    "            reviews   = [review['content'] for review in data.get('results', [])]\n",
    "            return reviews\n",
    "        else:\n",
    "            print(f\"Failed to fetch reviews for Movie ID {movie_id}: {response.status_code}\")\n",
    "            return []\n",
    "    except Exception as e:\n",
    "        print(f\"Error fetching reviews for Movie ID {movie_id}: {e}\")\n",
    "        return []\n",
    "\n",
    "# --- List of movie IDs you want to fetch ---\n",
    "movie_ids = new_df['id']\n",
    "\n",
    "# --- Create a dataset ---\n",
    "data = []\n",
    "\n",
    "for movie_id in movie_ids:\n",
    "    reviews = fetch_reviews(movie_id)\n",
    "    data.append({\n",
    "        \"movie_id\": movie_id,\n",
    "        \"reviews\": reviews\n",
    "    })\n",
    "    time.sleep(0.25)  # Sleep to avoid hitting rate limits\n",
    "\n",
    "\n"
   ]
  },
  {
   "cell_type": "code",
   "execution_count": 11,
   "id": "6fa70867-5dd3-414f-9f3c-0e0de6f8ec4c",
   "metadata": {},
   "outputs": [],
   "source": [
    "# --- Convert to DataFrame ---\n",
    "df = pd.DataFrame(data)\n"
   ]
  },
  {
   "cell_type": "code",
   "execution_count": 13,
   "id": "8b084281-a172-460f-9fd3-3126ebbdc12f",
   "metadata": {},
   "outputs": [
    {
     "name": "stdout",
     "output_type": "stream",
     "text": [
      "✅ Dataset created successfully!\n",
      "   movie_id                                            reviews\n",
      "0     19995  [Avatar is an overwhelming, immersive spectacl...\n",
      "1       285  [Part 3 Jack is stuck in Davy Jones locker. Wh...\n",
      "2    206647  [<a href=\"http://www.cutprintfilm.com/reviews/...\n",
      "3     49026  [I felt like this was a tremendous end to Nola...\n",
      "4     49529  [Totally forgettable and full of stereotypes, ...\n"
     ]
    }
   ],
   "source": [
    "# --- TMDB API key ---\n",
    "\n",
    "df.to_csv('movie_reviews_dataset.csv', index=False)\n",
    "\n",
    "\n",
    "print(\"✅ Dataset created successfully!\")\n",
    "print(df.head())"
   ]
  },
  {
   "cell_type": "code",
   "execution_count": 15,
   "id": "49c0a1cb-a916-4a87-8e44-8a43ef8c0e83",
   "metadata": {},
   "outputs": [],
   "source": [
    "# or\n",
    "df.to_pickle('movie_reviews_dataset.pkl')"
   ]
  },
  {
   "cell_type": "code",
   "execution_count": 17,
   "id": "bc3fbc80-e9c0-4078-8b48-e7cdab4d1ac7",
   "metadata": {},
   "outputs": [
    {
     "data": {
      "text/html": [
       "<div>\n",
       "<style scoped>\n",
       "    .dataframe tbody tr th:only-of-type {\n",
       "        vertical-align: middle;\n",
       "    }\n",
       "\n",
       "    .dataframe tbody tr th {\n",
       "        vertical-align: top;\n",
       "    }\n",
       "\n",
       "    .dataframe thead th {\n",
       "        text-align: right;\n",
       "    }\n",
       "</style>\n",
       "<table border=\"1\" class=\"dataframe\">\n",
       "  <thead>\n",
       "    <tr style=\"text-align: right;\">\n",
       "      <th></th>\n",
       "      <th>movie_id</th>\n",
       "      <th>reviews</th>\n",
       "    </tr>\n",
       "  </thead>\n",
       "  <tbody>\n",
       "    <tr>\n",
       "      <th>0</th>\n",
       "      <td>19995</td>\n",
       "      <td>[Avatar is an overwhelming, immersive spectacl...</td>\n",
       "    </tr>\n",
       "    <tr>\n",
       "      <th>1</th>\n",
       "      <td>285</td>\n",
       "      <td>[Part 3 Jack is stuck in Davy Jones locker. Wh...</td>\n",
       "    </tr>\n",
       "    <tr>\n",
       "      <th>2</th>\n",
       "      <td>206647</td>\n",
       "      <td>[&lt;a href=\"http://www.cutprintfilm.com/reviews/...</td>\n",
       "    </tr>\n",
       "    <tr>\n",
       "      <th>3</th>\n",
       "      <td>49026</td>\n",
       "      <td>[I felt like this was a tremendous end to Nola...</td>\n",
       "    </tr>\n",
       "    <tr>\n",
       "      <th>4</th>\n",
       "      <td>49529</td>\n",
       "      <td>[Totally forgettable and full of stereotypes, ...</td>\n",
       "    </tr>\n",
       "  </tbody>\n",
       "</table>\n",
       "</div>"
      ],
      "text/plain": [
       "   movie_id                                            reviews\n",
       "0     19995  [Avatar is an overwhelming, immersive spectacl...\n",
       "1       285  [Part 3 Jack is stuck in Davy Jones locker. Wh...\n",
       "2    206647  [<a href=\"http://www.cutprintfilm.com/reviews/...\n",
       "3     49026  [I felt like this was a tremendous end to Nola...\n",
       "4     49529  [Totally forgettable and full of stereotypes, ..."
      ]
     },
     "execution_count": 17,
     "metadata": {},
     "output_type": "execute_result"
    }
   ],
   "source": [
    "df.head()"
   ]
  },
  {
   "cell_type": "code",
   "execution_count": null,
   "id": "37b7d210-fc69-4865-9760-5998dc21286c",
   "metadata": {},
   "outputs": [],
   "source": []
  }
 ],
 "metadata": {
  "kernelspec": {
   "display_name": "Python 3 (ipykernel)",
   "language": "python",
   "name": "python3"
  },
  "language_info": {
   "codemirror_mode": {
    "name": "ipython",
    "version": 3
   },
   "file_extension": ".py",
   "mimetype": "text/x-python",
   "name": "python",
   "nbconvert_exporter": "python",
   "pygments_lexer": "ipython3",
   "version": "3.12.3"
  }
 },
 "nbformat": 4,
 "nbformat_minor": 5
}
